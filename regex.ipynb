{
 "cells": [
  {
   "cell_type": "markdown",
   "id": "f7dab160-2750-4c60-b3f3-cdbdf7c4c1d2",
   "metadata": {},
   "source": [
    "# Python RegEx\n"
   ]
  },
  {
   "cell_type": "markdown",
   "id": "63b057d7-8ad3-4bb5-81c5-c12790236c0d",
   "metadata": {},
   "source": [
    "Regex, or regular expression, is a sequence of characters that define a search pattern. Regular expressions are used to search, edit, or manipulate text and data. They are used in many programming languages, text editors, and search engines.\n"
   ]
  },
  {
   "cell_type": "markdown",
   "id": "d98a55e9-185a-4239-b04a-0efb7beaa22b",
   "metadata": {},
   "source": [
    "The pythonn standard library provides a re module for regular expressions.\n"
   ]
  },
  {
   "cell_type": "code",
   "execution_count": 3,
   "id": "68fb6f2b-c4e2-469a-bcbd-eafb0fad0ff1",
   "metadata": {
    "tags": []
   },
   "outputs": [
    {
     "name": "stdout",
     "output_type": "stream",
     "text": [
      "<re.Match object; span=(31, 37), match='portal'>\n",
      "portal\n",
      "start Index: 31\n",
      "end Index: 37\n"
     ]
    }
   ],
   "source": [
    "import re\n",
    "\n",
    "match = re.search(r'portal', \"w3school: A computer science \\ portal for geeks\")\n",
    "print(match)\n",
    "print(match.group())\n",
    "print(\"start Index:\" , match.start())\n",
    "print(\"end Index:\", match.end())"
   ]
  },
  {
   "cell_type": "markdown",
   "id": "132f394c-02d5-4bca-8e28-4f3b3aaf9972",
   "metadata": {},
   "source": [
    "\n",
    "# Why RegEx?"
   ]
  },
  {
   "cell_type": "markdown",
   "id": "2da58882-c543-4394-8083-279c0e398825",
   "metadata": {},
   "source": [
    "1. Data Mining: Regular expression is the best tool for data mining. It efficiently identifies a text in a heap of text by checking with a pre-defined pattern. Some common scenarios are identifying an email, URL, or phone from a pile of text.\n",
    "\n",
    "2. Data Validation: Regular expression can perfectly validate data. It can include a wide array of validation processes by defining different sets of patterns. A few examples are validating phone numbers, emails, etc.\n"
   ]
  },
  {
   "cell_type": "markdown",
   "id": "0ca93df0-5d2a-4301-b39a-44f36fc0c68a",
   "metadata": {},
   "source": [
    "# examples of regular expressions\n"
   ]
  },
  {
   "cell_type": "markdown",
   "id": "bed364df-b8c9-4583-a905-260ed9e42118",
   "metadata": {
    "tags": []
   },
   "source": [
    "- Optional Characters\n",
    "- Repetition\n",
    "- Shorthand\n",
    "- Grouping \n",
    "- Lookahead\n",
    "- substitution"
   ]
  },
  {
   "cell_type": "markdown",
   "id": "23f56db6-d7b1-4173-917e-a364227e4dfa",
   "metadata": {},
   "source": [
    "# Optional Characters"
   ]
  },
  {
   "cell_type": "code",
   "execution_count": 7,
   "id": "2e3a1f04-e26a-4180-974a-6a528df52608",
   "metadata": {
    "tags": []
   },
   "outputs": [
    {
     "name": "stdout",
     "output_type": "stream",
     "text": [
      "Color <re.Match object; span=(0, 5), match='color'>\n",
      "Colour <re.Match object; span=(0, 6), match='colour'>\n"
     ]
    }
   ],
   "source": [
    "import re\n",
    "\n",
    "print(\"Color\", re.search(r\"colou?r\", \"color\"))\n",
    "print(\"Colour\", re.search(r\"colou?r\", \"colour\"))\n"
   ]
  },
  {
   "cell_type": "markdown",
   "id": "5392c8ce-dbac-4f16-aa81-03d1fa9cd5f1",
   "metadata": {},
   "source": [
    "# The findall() funtion"
   ]
  },
  {
   "cell_type": "code",
   "execution_count": 2,
   "id": "6e009238-c46b-4748-9170-f8a67e3acd73",
   "metadata": {},
   "outputs": [
    {
     "name": "stdout",
     "output_type": "stream",
     "text": [
      "['ai', 'ai']\n"
     ]
    }
   ],
   "source": [
    "import re\n",
    "\n",
    "txt = \"The rain in Spain\"\n",
    "x = re.findall(\"ai\", txt)\n",
    "print(x)"
   ]
  },
  {
   "cell_type": "markdown",
   "id": "2da1efea-49ea-4782-b2a6-c9a963c899c6",
   "metadata": {},
   "source": []
  }
 ],
 "metadata": {
  "kernelspec": {
   "display_name": "Python 3 (ipykernel)",
   "language": "python",
   "name": "python3"
  },
  "language_info": {
   "codemirror_mode": {
    "name": "ipython",
    "version": 3
   },
   "file_extension": ".py",
   "mimetype": "text/x-python",
   "name": "python",
   "nbconvert_exporter": "python",
   "pygments_lexer": "ipython3",
   "version": "3.11.2"
  }
 },
 "nbformat": 4,
 "nbformat_minor": 5
}
